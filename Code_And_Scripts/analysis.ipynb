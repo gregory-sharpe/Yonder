{
 "cells": [
  {
   "cell_type": "code",
   "execution_count": 7,
   "metadata": {},
   "outputs": [],
   "source": [
    "import pandas as pd\n",
    "import os\n",
    "path = os.path.join(\"..\",\"Interview_Spec\",\"Test Data.sav\")\n",
    "outputCSVPath = os.path.join(\"..\",\"Data\",\"Test_Data.csv\")\n",
    "# Os.path.join makes the path independent of the operating system\n",
    "df = pd.read_spss(path)\n",
    "df.to_csv(outputCSVPath, index=False)\n"
   ]
  }
 ],
 "metadata": {
  "kernelspec": {
   "display_name": "VEnvironment",
   "language": "python",
   "name": "python3"
  },
  "language_info": {
   "codemirror_mode": {
    "name": "ipython",
    "version": 3
   },
   "file_extension": ".py",
   "mimetype": "text/x-python",
   "name": "python",
   "nbconvert_exporter": "python",
   "pygments_lexer": "ipython3",
   "version": "3.12.4"
  }
 },
 "nbformat": 4,
 "nbformat_minor": 2
}
